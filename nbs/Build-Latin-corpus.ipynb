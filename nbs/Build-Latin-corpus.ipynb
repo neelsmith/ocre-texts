{
 "cells": [
  {
   "cell_type": "markdown",
   "metadata": {},
   "source": [
    "# Building a `latincorpus` object\n",
    "\n",
    "## Contents of this notebook\n",
    "\n",
    "This notebook shows how to build a parsed Latin corpus (a `latincorpus` object) for OCRE texts, and how to go from a single surface form to a morphologically sensitive full-corpus search.\n",
    "\n",
    "\n",
    "## Organization of this notebook\n",
    "\n",
    "This notebook uses Scala with the almond kernel (<https://almond.sh/>).  The cells labelled \"Notebook configuration\" configure the almond kernel to find and import a series of custom libraries using syntax specific to the ammonite shell that almond use.  This is analogous to defining imports in a `build.sbt` file if you were using `sbt` to run scala.\n",
    "\n",
    "The following section (labelled  \"Analyis with generic Scala\") consists of completely generic scala that could be used in any environment with access to the repositories and libraries configured in the section labelled \"Notebook configuration\".\n"
   ]
  },
  {
   "cell_type": "markdown",
   "metadata": {},
   "source": [
    "## Notebook configuration\n",
    "\n",
    "Set up notebook for access to libraries.  For reasons I don't understand (but perhaps having to do with asynchronous loading) I have to separate out the two steps of adding a maven repository and using `$ivy` imports with those repositories into separate notebook cells."
   ]
  },
  {
   "cell_type": "code",
   "execution_count": null,
   "metadata": {},
   "outputs": [],
   "source": [
    "// 1. Add maven repository where we can find our libraries\n",
    "val myBT = coursierapi.MavenRepository.of(\"https://dl.bintray.com/neelsmith/maven\")\n",
    "interp.repositories() ++= Seq(myBT)"
   ]
  },
  {
   "cell_type": "code",
   "execution_count": null,
   "metadata": {},
   "outputs": [],
   "source": [
    "// 2. Make libraries available with `$ivy` imports:\n",
    "import $ivy.`edu.holycross.shot::nomisma:0.4.0`\n",
    "import $ivy.`edu.holycross.shot::histoutils:2.2.0`\n",
    "import $ivy.`org.plotly-scala::plotly-almond:0.7.1`\n",
    "\n",
    "import $ivy.`edu.holycross.shot::ohco2:10.16.0`\n",
    "import $ivy.`edu.holycross.shot.cite::xcite:4.1.1`\n",
    "import $ivy.`edu.holycross.shot::midvalidator:9.1.0`\n",
    "\n",
    "\n",
    "import $ivy.`edu.holycross.shot::latphone:2.7.2`\n",
    "\n",
    "import $ivy.`edu.holycross.shot::latincorpus:2.2.1`\n"
   ]
  },
  {
   "cell_type": "markdown",
   "metadata": {},
   "source": [
    "## Analyis with generic Scala\n",
    "\n",
    "Import libraries, as always in Scala:"
   ]
  },
  {
   "cell_type": "code",
   "execution_count": null,
   "metadata": {},
   "outputs": [],
   "source": [
    "import edu.holycross.shot.nomisma._\n",
    "import edu.holycross.shot.histoutils._\n",
    "\n",
    "import edu.holycross.shot.cite._\n",
    "import edu.holycross.shot.ohco2._\n",
    "\n",
    "import edu.holycross.shot.mid.validator._\n",
    "\n",
    "\n",
    "import edu.holycross.shot.latin._\n",
    "import edu.holycross.shot.latincorpus._\n",
    "\n",
    "import scala.io.Source\n",
    "import plotly._, plotly.element._, plotly.layout._, plotly.Almond._\n"
   ]
  },
  {
   "cell_type": "markdown",
   "metadata": {},
   "source": [
    "### Build a `latincorpus`"
   ]
  },
  {
   "cell_type": "code",
   "execution_count": null,
   "metadata": {},
   "outputs": [],
   "source": [
    "val fstUrl = \"https://raw.githubusercontent.com/neelsmith/hctexts/master/workfiles/ocre/ocre-fst.txt\"\n",
    "val fstLines = Source.fromURL(fstUrl).getLines.toVector\n",
    "\n",
    "val url = \"https://raw.githubusercontent.com/neelsmith/hctexts/master/cex/ocre43k.cex\"\n",
    "val ctsLines = Source.fromURL(url).getLines.toVector.tail.filter(_.nonEmpty)\n",
    "\n",
    "val stringPairs = ctsLines.map(_.split(\"#\"))\n",
    "val citableNodes = stringPairs.map( arr => CitableNode(CtsUrn(arr(0)), arr(1)))\n",
    "val corpus = Corpus(citableNodes)\n"
   ]
  },
  {
   "cell_type": "code",
   "execution_count": null,
   "metadata": {},
   "outputs": [],
   "source": [
    "val ocrelat = LatinCorpus.fromFstLines(corpus, Latin24Alphabet, fstLines, strict = false)\n"
   ]
  },
  {
   "cell_type": "markdown",
   "metadata": {},
   "source": [
    "## `Libertas` in Ocre\n"
   ]
  },
  {
   "cell_type": "code",
   "execution_count": null,
   "metadata": {},
   "outputs": [],
   "source": [
    "val lexemeIds = ocrelat.tokenLexemeIndex(\"libertas\")\n",
    "val lexemeId = lexemeIds(0)\n",
    "val occurrences =  ocrelat.lexemeConcordance(lexemeId)\n"
   ]
  },
  {
   "cell_type": "markdown",
   "metadata": {},
   "source": [
    "Convert text references to coin IDs\n"
   ]
  },
  {
   "cell_type": "code",
   "execution_count": null,
   "metadata": {},
   "outputs": [],
   "source": [
    "val coinIds = occurrences.map(_.collapsePassageTo(3).passageComponent)"
   ]
  }
 ],
 "metadata": {
  "kernelspec": {
   "display_name": "Scala (2.12)",
   "language": "scala",
   "name": "scala212"
  },
  "language_info": {
   "codemirror_mode": "text/x-scala",
   "file_extension": ".scala",
   "mimetype": "text/x-scala",
   "name": "scala",
   "nbconvert_exporter": "script",
   "version": "2.12.10"
  }
 },
 "nbformat": 4,
 "nbformat_minor": 2
}
