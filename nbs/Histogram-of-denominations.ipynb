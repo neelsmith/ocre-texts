{
 "cells": [
  {
   "cell_type": "markdown",
   "metadata": {},
   "source": [
    "# Counting issues by denominations\n",
    "\n",
    "This notebook computes the number of issues by denomination for more than 50,000 records in OCRE.\n",
    "\n",
    "## Organization of this notebook\n",
    "\n",
    "This notebook uses Scala with the almond kernel (<https://almond.sh/>).  The cells labelled \"Notebook configuration\" configure the almond kernel to find and import a series of custom libraries using syntax specific to the ammonite shell that almond use.  This is analogous to defining imports in a `build.sbt` file if you were using `sbt` to run scala.\n",
    "\n",
    "The following section (labelled  \"Analyis with generic Scala\") consists of completely generic scala that could be used in any environment with access to the repositories and libraries configured in the section labelled \"Notebook configuration\".\n"
   ]
  },
  {
   "cell_type": "markdown",
   "metadata": {},
   "source": [
    "## Notebook configuration\n",
    "\n",
    "Set up notebook for access to libraries.  For reasons I don't understand (but perhaps having to do with asynchronous loading) I have to separate out the two steps of adding a maven repository and using `$ivy` imports with those repositories into separate notebook cells."
   ]
  },
  {
   "cell_type": "code",
   "execution_count": 27,
   "metadata": {
    "collapsed": true
   },
   "outputs": [
    {
     "data": {
      "text/plain": [
       "\u001b[36mmyBT\u001b[39m: \u001b[32mcoursierapi\u001b[39m.\u001b[32mMavenRepository\u001b[39m = MavenRepository(https://dl.bintray.com/neelsmith/maven)"
      ]
     },
     "execution_count": 27,
     "metadata": {},
     "output_type": "execute_result"
    }
   ],
   "source": [
    "// 1. Add maven repository where we can find our libraries\n",
    "val myBT = coursierapi.MavenRepository.of(\"https://dl.bintray.com/neelsmith/maven\")\n",
    "interp.repositories() ++= Seq(myBT)"
   ]
  },
  {
   "cell_type": "code",
   "execution_count": 28,
   "metadata": {
    "collapsed": true
   },
   "outputs": [
    {
     "data": {
      "text/plain": [
       "\u001b[32mimport \u001b[39m\u001b[36m$ivy.$                                  \n",
       "\u001b[39m\n",
       "\u001b[32mimport \u001b[39m\u001b[36m$ivy.$                                     \n",
       "\u001b[39m\n",
       "\u001b[32mimport \u001b[39m\u001b[36m$ivy.$                                      \n",
       "\u001b[39m"
      ]
     },
     "execution_count": 28,
     "metadata": {},
     "output_type": "execute_result"
    }
   ],
   "source": [
    "// 2. Make libraries available with `$ivy` imports:\n",
    "import $ivy.`edu.holycross.shot::nomisma:0.4.0`\n",
    "import $ivy.`edu.holycross.shot::histoutils:2.2.0`\n",
    "import $ivy.`org.plotly-scala::plotly-almond:0.7.1`\n"
   ]
  },
  {
   "cell_type": "markdown",
   "metadata": {},
   "source": [
    "## Analyis with generic Scala\n",
    "\n",
    "Import libraries, as always in Scala:"
   ]
  },
  {
   "cell_type": "code",
   "execution_count": 29,
   "metadata": {
    "collapsed": true
   },
   "outputs": [
    {
     "data": {
      "text/plain": [
       "\u001b[32mimport \u001b[39m\u001b[36medu.holycross.shot.nomisma._\n",
       "\u001b[39m\n",
       "\u001b[32mimport \u001b[39m\u001b[36medu.holycross.shot.histoutils._\n",
       "\u001b[39m\n",
       "\u001b[32mimport \u001b[39m\u001b[36mscala.io.Source\n",
       "\u001b[39m\n",
       "\u001b[32mimport \u001b[39m\u001b[36mplotly._, plotly.element._, plotly.layout._, plotly.Almond._\n",
       "\u001b[39m"
      ]
     },
     "execution_count": 29,
     "metadata": {},
     "output_type": "execute_result"
    }
   ],
   "source": [
    "import edu.holycross.shot.nomisma._\n",
    "import edu.holycross.shot.histoutils._\n",
    "import scala.io.Source\n",
    "import plotly._, plotly.element._, plotly.layout._, plotly.Almond._\n"
   ]
  },
  {
   "cell_type": "markdown",
   "metadata": {},
   "source": [
    "### Build an `Ocre` object\n",
    "\n",
    "The following cell loads data in CEX format for:\n",
    "\n",
    "- basic data about each issue\n",
    "- texts of obverse and reverse legends\n",
    "- text of OCRE description of obverse and reverse types\n",
    "- geographic coordinate data for mints in OCRE\n",
    "\n",
    "It unifies these in a single `Ocre` object "
   ]
  },
  {
   "cell_type": "code",
   "execution_count": 30,
   "metadata": {
    "collapsed": true
   },
   "outputs": [
    {
     "data": {
      "text/plain": [
       "\u001b[36mbasicsUrl\u001b[39m: \u001b[32mString\u001b[39m = \u001b[32m\"https://github.com/neelsmith/nomisma/raw/master/shared/src/test/resources/cex/ocre-basic-issues.cex\"\u001b[39m\n",
       "\u001b[36mdata\u001b[39m: \u001b[32mVector\u001b[39m[\u001b[32mString\u001b[39m] = \u001b[33mVector\u001b[39m(\n",
       "  \u001b[32m\"1_2.aug.10#RIC I (second edition) Augustus 10#denarius#ar#augustus#emerita#lu\u001b[39m...\n",
       "\u001b[36mbasics\u001b[39m: \u001b[32mVector\u001b[39m[\u001b[32mBasicIssue\u001b[39m] = \u001b[33mVector\u001b[39m(\n",
       "  \u001b[33mBasicIssue\u001b[39m(\n",
       "...\n",
       "\u001b[36mbasicIssues\u001b[39m: \u001b[32mVector\u001b[39m[\u001b[32mBasicIssue\u001b[39m] = \u001b[33mVector\u001b[39m(\n",
       "  \u001b[33mBasicIssue\u001b[39m(\n",
       "...\n",
       "\u001b[36mlegendUrl\u001b[39m: \u001b[32mString\u001b[39m = \u001b[32m\"https://raw.githubusercontent.com/neelsmith/nomisma/master/shared/src/test/resources/cex/ocre-legends.cex\"\u001b[39m\n",
       "\u001b[36mlegendList\u001b[39m: \u001b[32mIterator\u001b[39m[\u001b[32mVector\u001b[39m[\u001b[32medu\u001b[39m.\u001b[32mholycross\u001b[39m.\u001b[32mshot\u001b[39m.\u001b[32mnomisma\u001b[39m.\u001b[32mLegend\u001b[39m]] = \u001b[32mempty iterator\u001b[39m\n",
       "\u001b[36mlegends\u001b[39m: \u001b[32mVector\u001b[39m[\u001b[32medu\u001b[39m.\u001b[32mholycross\u001b[39m.\u001b[32mshot\u001b[39m.\u001b[32mnomisma\u001b[39m.\u001b[32mLegend\u001b[39m] = \u001b[33mVector\u001b[39m(\n",
       "  \u001b[33mLegend\u001b[39m(\u001b[32m\"ID\"\u001b[39m, Obverse, \u001b[32m\"ObvLegend\"\u001b[39m),\n",
       "...\n",
       "\u001b[36mtypesUrl\u001b[39m: \u001b[32mString\u001b[39m = \u001b[32m\"https://raw.githubusercontent.com/neelsmith/nomisma/master/shared/src/test/resources/cex/ocre-types.cex\"\u001b[39m\n",
       "\u001b[36mtypeList\u001b[39m: \u001b[32mIterator\u001b[39m[\u001b[32mVector\u001b[39m[\u001b[32mTypeDescription\u001b[39m]] = \u001b[32mempty iterator\u001b[39m\n",
       "\u001b[36mtypeVector\u001b[39m: \u001b[32mVector\u001b[39m[\u001b[32mTypeDescription\u001b[39m] = \u001b[33mVector\u001b[39m(\n",
       "  \u001b[33mTypeDescription\u001b[39m(\u001b[32m\"ID\"\u001b[39m, Obverse, \u001b[32m\"ObvType\"\u001b[39m),\n",
       "...\n",
       "\u001b[36mgeoUrl\u001b[39m: \u001b[32mString\u001b[39m = \u001b[32m\"https://raw.githubusercontent.com/neelsmith/nomisma/master/shared/src/test/resources/cex/mintgeo.cex\"\u001b[39m\n",
       "\u001b[36mgeoLines\u001b[39m: \u001b[32mVector\u001b[39m[\u001b[32mString\u001b[39m] = \u001b[33mVector\u001b[39m(\n",
       "  \u001b[32m\"http://nomisma.org/id/alexandreia_egypt.rdf#29.909773#31.201435\"\u001b[39m,\n",
       "...\n",
       "\u001b[36mmintPoints\u001b[39m: \u001b[32mVector\u001b[39m[\u001b[32mMintPoint\u001b[39m] = \u001b[33mVector\u001b[39m(\n",
       "  \u001b[33mMintPoint\u001b[39m(\n",
       "...\n",
       "\u001b[36mocre\u001b[39m: \u001b[32mOcre\u001b[39m = \u001b[33mOcre\u001b[39m(\n",
       "  \u001b[33mVector\u001b[39m(\n",
       "..."
      ]
     },
     "execution_count": 30,
     "metadata": {},
     "output_type": "execute_result"
    }
   ],
   "source": [
    "val basicsUrl = \"https://github.com/neelsmith/nomisma/raw/master/shared/src/test/resources/cex/ocre-basic-issues.cex\"\n",
    "// Drop header line\n",
    "val data = Source.fromURL(basicsUrl).getLines.toVector.tail\n",
    "\n",
    "val basics = for (cex <- data) yield {\n",
    "    BasicIssue(cex)\n",
    "}\n",
    "val basicIssues = basics.toVector\n",
    "\n",
    "\n",
    "val legendUrl = \"https://raw.githubusercontent.com/neelsmith/nomisma/master/shared/src/test/resources/cex/ocre-legends.cex\"\n",
    "val legendList = for (cex <- Source.fromURL(legendUrl).getLines) yield {\n",
    "    edu.holycross.shot.nomisma.Legend(cex)\n",
    "}\n",
    "val legends = legendList.toVector.flatten\n",
    "\n",
    "val typesUrl = \"https://raw.githubusercontent.com/neelsmith/nomisma/master/shared/src/test/resources/cex/ocre-types.cex\"\n",
    "val typeList = for (cex <- Source.fromURL(typesUrl).getLines) yield {\n",
    "    TypeDescription(cex)\n",
    "}\n",
    "val typeVector = typeList.toVector.flatten\n",
    "\n",
    "val geoUrl  = \"https://raw.githubusercontent.com/neelsmith/nomisma/master/shared/src/test/resources/cex/mintgeo.cex\"\n",
    "val geoLines = Source.fromURL(geoUrl).getLines.toVector.tail\n",
    "val mintPoints = geoLines.map(MintPoint(_)).toVector\n",
    "\n",
    "// The composite Ocre object:\n",
    "val ocre = Ocre(basicIssues, legends, typeVector, Vector.empty[Portrait], MintPointCollection(mintPoints))\n",
    "\n",
    "\n"
   ]
  },
  {
   "cell_type": "markdown",
   "metadata": {},
   "source": [
    "### Compute and plot histogram by denomination"
   ]
  },
  {
   "cell_type": "markdown",
   "metadata": {
    "collapsed": true
   },
   "source": [
    "Settings for reasonable display using plotly:"
   ]
  },
  {
   "cell_type": "code",
   "execution_count": 31,
   "metadata": {},
   "outputs": [],
   "source": [
    "repl.pprinter() = repl.pprinter().copy(defaultHeight = 3)"
   ]
  },
  {
   "cell_type": "code",
   "execution_count": 33,
   "metadata": {},
   "outputs": [
    {
     "data": {
      "application/vnd.plotly.v1+json": {
       "data": [
        {
         "type": "bar",
         "x": [
          "antoninianus",
          "denarius",
          "sestertius",
          "ae2",
          "aureus",
          "ae3",
          "as",
          "dupondius",
          "solidus",
          "ae1",
          "ae4",
          "siliqua",
          "quinarius",
          "large_ae2",
          "uncertain_value",
          "none",
          "roman_medallion",
          "tremissis",
          "quadrans",
          "quinarius_aureus",
          "light_miliarensis",
          "multiple-gold",
          "cistophorus",
          "small_ae2",
          "reduced_ae2",
          "semissis",
          "fraction",
          "semis",
          "heavy_miliarensis",
          "half_siliqua",
          "reduced_siliqua",
          "ae3_4",
          "oneandahalf-solidus",
          "multiple-silver",
          "9-siliqua",
          "argenteus",
          "2-solidus",
          "oneandahalf_scripula",
          "contorniate",
          "aureus2_ric",
          "aureus1_ric",
          "drachma",
          "didrachm",
          "half_solidus",
          "fourandahalf-solidus",
          "double-sestertius",
          "ae_small",
          "9-solidus",
          "ae_large",
          "ae_medium",
          "3-solidus",
          "hemidrachm",
          "aureus3_ric",
          "4-aureus",
          "ae_half_unit",
          "7-solidus",
          "ar",
          "triens",
          "24-as",
          "5-denarius",
          "reduced_half_siliqua",
          "12-as",
          "5-aureus",
          "heavy_siliqua",
          "6-solidus",
          "half-solidus",
          "30-solidus",
          "double-aureus",
          "ae_unit",
          "7-denarius",
          "8-denarius",
          "double-maiorina",
          "uncia",
          "4-solidus",
          "4-denarius"
         ],
         "y": [
          9472,
          6430,
          4844,
          4603,
          4505,
          3828,
          3404,
          2255,
          2079,
          2048,
          969,
          869,
          558,
          517,
          463,
          402,
          393,
          289,
          262,
          259,
          241,
          238,
          178,
          162,
          159,
          141,
          132,
          131,
          125,
          83,
          72,
          71,
          52,
          50,
          41,
          38,
          38,
          36,
          30,
          24,
          22,
          13,
          12,
          11,
          11,
          9,
          9,
          8,
          8,
          8,
          7,
          3,
          3,
          3,
          2,
          2,
          2,
          2,
          2,
          2,
          1,
          1,
          1,
          1,
          1,
          1,
          1,
          1,
          1,
          1,
          1,
          1,
          1,
          1,
          1
         ]
        }
       ],
       "layout": {}
      },
      "text/html": [
       "<div class=\"chart\" id=\"plot-e303b911-ea6c-4bd6-8ca6-69471df7f79d\"></div>\n",
       "<script>require(['plotly'], function(Plotly) {\n",
       "  (function () {\n",
       "  var data0 = {\"x\":[\"antoninianus\",\"denarius\",\"sestertius\",\"ae2\",\"aureus\",\"ae3\",\"as\",\"dupondius\",\"solidus\",\"ae1\",\"ae4\",\"siliqua\",\"quinarius\",\"large_ae2\",\"uncertain_value\",\"none\",\"roman_medallion\",\"tremissis\",\"quadrans\",\"quinarius_aureus\",\"light_miliarensis\",\"multiple-gold\",\"cistophorus\",\"small_ae2\",\"reduced_ae2\",\"semissis\",\"fraction\",\"semis\",\"heavy_miliarensis\",\"half_siliqua\",\"reduced_siliqua\",\"ae3_4\",\"oneandahalf-solidus\",\"multiple-silver\",\"9-siliqua\",\"argenteus\",\"2-solidus\",\"oneandahalf_scripula\",\"contorniate\",\"aureus2_ric\",\"aureus1_ric\",\"drachma\",\"didrachm\",\"half_solidus\",\"fourandahalf-solidus\",\"double-sestertius\",\"ae_small\",\"9-solidus\",\"ae_large\",\"ae_medium\",\"3-solidus\",\"hemidrachm\",\"aureus3_ric\",\"4-aureus\",\"ae_half_unit\",\"7-solidus\",\"ar\",\"triens\",\"24-as\",\"5-denarius\",\"reduced_half_siliqua\",\"12-as\",\"5-aureus\",\"heavy_siliqua\",\"6-solidus\",\"half-solidus\",\"30-solidus\",\"double-aureus\",\"ae_unit\",\"7-denarius\",\"8-denarius\",\"double-maiorina\",\"uncia\",\"4-solidus\",\"4-denarius\"],\"y\":[9472.0,6430.0,4844.0,4603.0,4505.0,3828.0,3404.0,2255.0,2079.0,2048.0,969.0,869.0,558.0,517.0,463.0,402.0,393.0,289.0,262.0,259.0,241.0,238.0,178.0,162.0,159.0,141.0,132.0,131.0,125.0,83.0,72.0,71.0,52.0,50.0,41.0,38.0,38.0,36.0,30.0,24.0,22.0,13.0,12.0,11.0,11.0,9.0,9.0,8.0,8.0,8.0,7.0,3.0,3.0,3.0,2.0,2.0,2.0,2.0,2.0,2.0,1.0,1.0,1.0,1.0,1.0,1.0,1.0,1.0,1.0,1.0,1.0,1.0,1.0,1.0,1.0],\"type\":\"bar\"};\n",
       "\n",
       "  var data = [data0];\n",
       "  var layout = {};\n",
       "\n",
       "  Plotly.plot('plot-e303b911-ea6c-4bd6-8ca6-69471df7f79d', data, layout);\n",
       "})();\n",
       "});\n",
       "      </script>\n",
       "           "
      ]
     },
     "metadata": {},
     "output_type": "display_data"
    },
    {
     "data": {
      "text/plain": [
       "\u001b[36mdenomFreqs\u001b[39m: \u001b[32mcollection\u001b[39m.\u001b[32mimmutable\u001b[39m.\u001b[32mIterable\u001b[39m[\u001b[32mFrequency\u001b[39m[\u001b[32mString\u001b[39m]] = \u001b[33mList\u001b[39m(\n",
       "  \u001b[33mFrequency\u001b[39m(\u001b[32m\"quadrans\"\u001b[39m, \u001b[32m262\u001b[39m),\n",
       "...\n",
       "\u001b[36mdenomHisto\u001b[39m: \u001b[32medu\u001b[39m.\u001b[32mholycross\u001b[39m.\u001b[32mshot\u001b[39m.\u001b[32mhistoutils\u001b[39m.\u001b[32mHistogram\u001b[39m[\u001b[32mString\u001b[39m] = \u001b[33mHistogram\u001b[39m(\n",
       "  \u001b[33mVector\u001b[39m(\n",
       "...\n",
       "\u001b[36mdenoms\u001b[39m: \u001b[32mVector\u001b[39m[\u001b[32mString\u001b[39m] = \u001b[33mVector\u001b[39m(\n",
       "  \u001b[32m\"antoninianus\"\u001b[39m,\n",
       "...\n",
       "\u001b[36mcounts\u001b[39m: \u001b[32mVector\u001b[39m[\u001b[32mInt\u001b[39m] = \u001b[33mVector\u001b[39m(\n",
       "  \u001b[32m9472\u001b[39m,\n",
       "...\n",
       "\u001b[36mplottable\u001b[39m: \u001b[32mSeq\u001b[39m[\u001b[32mBar\u001b[39m] = \u001b[33mList\u001b[39m(\n",
       "  \u001b[33mBar\u001b[39m(\n",
       "...\n",
       "\u001b[36mres32_5\u001b[39m: \u001b[32mString\u001b[39m = \u001b[32m\"plot-e303b911-ea6c-4bd6-8ca6-69471df7f79d\"\u001b[39m"
      ]
     },
     "execution_count": 33,
     "metadata": {},
     "output_type": "execute_result"
    }
   ],
   "source": [
    "val denomFreqs = ocre.issues.map(_.denomination).groupBy(d => d).map { case (k,v) => Frequency(k, v.size)}\n",
    "val denomHisto = edu.holycross.shot.histoutils.Histogram(denomFreqs.toVector)\n",
    "\n",
    "val denoms = denomHisto.sorted.frequencies.map(_.item)\n",
    "val counts = denomHisto.sorted.frequencies.map(_.count)\n",
    "val plottable = Seq(\n",
    "  Bar(\n",
    "   denoms, counts\n",
    "  )\n",
    ")\n",
    "\n",
    "plot(plottable)\n",
    "\n",
    "\n"
   ]
  }
 ],
 "metadata": {
  "kernelspec": {
   "display_name": "Scala (2.12)",
   "language": "scala",
   "name": "scala212"
  },
  "language_info": {
   "codemirror_mode": "text/x-scala",
   "file_extension": ".scala",
   "mimetype": "text/x-scala",
   "name": "scala",
   "nbconvert_exporter": "script",
   "version": "2.12.10"
  }
 },
 "nbformat": 4,
 "nbformat_minor": 2
}
