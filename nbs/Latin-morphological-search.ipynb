{
 "cells": [
  {
   "cell_type": "markdown",
   "metadata": {},
   "source": [
    "# Search the OCRE text corpus\n",
    "\n",
    "## Contents of this notebook\n",
    "\n",
    "This notebook shows how to build a parsed Latin corpus (a `latincorpus` object) for OCRE texts, and how to go from a single surface form to a morphologically sensitive full-corpus search.\n",
    "\n",
    "\n",
    "## Organization of this notebook\n",
    "\n",
    "This notebook uses Scala with the almond kernel (<https://almond.sh/>).  The cells labelled \"Notebook configuration\" configure the almond kernel to find and import a series of custom libraries using syntax specific to the ammonite shell that almond use.  This is analogous to defining imports in a `build.sbt` file if you were using `sbt` to run scala.\n",
    "\n",
    "The following section (labelled  \"Analyis with generic Scala\") consists of completely generic scala that could be used in any environment with access to the repositories and libraries configured in the section labelled \"Notebook configuration\".\n"
   ]
  },
  {
   "cell_type": "markdown",
   "metadata": {},
   "source": [
    "## Notebook configuration\n",
    "\n",
    "Set up notebook for access to libraries.  For reasons I don't understand (but perhaps having to do with asynchronous loading) I have to separate out the two steps of adding a maven repository and using `$ivy` imports with those repositories into separate notebook cells."
   ]
  },
  {
   "cell_type": "code",
   "execution_count": 1,
   "metadata": {
    "collapsed": true
   },
   "outputs": [
    {
     "data": {
      "text/plain": [
       "\u001b[36mmyBT\u001b[39m: \u001b[32mcoursierapi\u001b[39m.\u001b[32mMavenRepository\u001b[39m = MavenRepository(https://dl.bintray.com/neelsmith/maven)"
      ]
     },
     "execution_count": 1,
     "metadata": {},
     "output_type": "execute_result"
    }
   ],
   "source": [
    "// 1. Add maven repository where we can find our libraries\n",
    "val myBT = coursierapi.MavenRepository.of(\"https://dl.bintray.com/neelsmith/maven\")\n",
    "interp.repositories() ++= Seq(myBT)"
   ]
  },
  {
   "cell_type": "code",
   "execution_count": 2,
   "metadata": {
    "collapsed": true
   },
   "outputs": [
    {
     "data": {
      "text/plain": [
       "\u001b[32mimport \u001b[39m\u001b[36m$ivy.$                                  \n",
       "\u001b[39m\n",
       "\u001b[32mimport \u001b[39m\u001b[36m$ivy.$                                     \n",
       "\u001b[39m\n",
       "\u001b[32mimport \u001b[39m\u001b[36m$ivy.$                                       \n",
       "\u001b[39m\n",
       "\u001b[32mimport \u001b[39m\u001b[36m$ivy.$                                   \n",
       "\u001b[39m\n",
       "\u001b[32mimport \u001b[39m\u001b[36m$ivy.$                                      \n",
       "\u001b[39m"
      ]
     },
     "execution_count": 2,
     "metadata": {},
     "output_type": "execute_result"
    }
   ],
   "source": [
    "// 2. Make libraries available with `$ivy` imports:\n",
    "import $ivy.`edu.holycross.shot::ohco2:10.16.0`\n",
    "import $ivy.`edu.holycross.shot.cite::xcite:4.1.1`\n",
    "import $ivy.`edu.holycross.shot::midvalidator:9.1.0`\n",
    "import $ivy.`edu.holycross.shot::latphone:2.7.2`\n",
    "import $ivy.`edu.holycross.shot::latincorpus:2.2.1`\n"
   ]
  },
  {
   "cell_type": "markdown",
   "metadata": {},
   "source": [
    "## Analyis with generic Scala\n",
    "\n",
    "Import libraries, as always:"
   ]
  },
  {
   "cell_type": "code",
   "execution_count": 3,
   "metadata": {
    "collapsed": true
   },
   "outputs": [
    {
     "data": {
      "text/plain": [
       "\u001b[32mimport \u001b[39m\u001b[36medu.holycross.shot.cite._\n",
       "\u001b[39m\n",
       "\u001b[32mimport \u001b[39m\u001b[36medu.holycross.shot.ohco2._\n",
       "\n",
       "\u001b[39m\n",
       "\u001b[32mimport \u001b[39m\u001b[36medu.holycross.shot.mid.validator._\n",
       "\u001b[39m\n",
       "\u001b[32mimport \u001b[39m\u001b[36medu.holycross.shot.latin._\n",
       "\u001b[39m\n",
       "\u001b[32mimport \u001b[39m\u001b[36medu.holycross.shot.latincorpus._\n",
       "\n",
       "\u001b[39m\n",
       "\u001b[32mimport \u001b[39m\u001b[36mscala.io.Source\u001b[39m"
      ]
     },
     "execution_count": 3,
     "metadata": {},
     "output_type": "execute_result"
    }
   ],
   "source": [
    "import edu.holycross.shot.cite._\n",
    "import edu.holycross.shot.ohco2._\n",
    "\n",
    "import edu.holycross.shot.mid.validator._\n",
    "import edu.holycross.shot.latin._\n",
    "import edu.holycross.shot.latincorpus._\n",
    "\n",
    "import scala.io.Source"
   ]
  },
  {
   "cell_type": "markdown",
   "metadata": {},
   "source": [
    "### Build a `latincorpus`\n",
    "\n",
    "The `latincorpus` objects unifies a citable text corpus (an ohco2 `Corpus`) with a "
   ]
  },
  {
   "cell_type": "code",
   "execution_count": 4,
   "metadata": {
    "collapsed": true
   },
   "outputs": [
    {
     "data": {
      "text/plain": [
       "\u001b[36mfstUrl\u001b[39m: \u001b[32mString\u001b[39m = \u001b[32m\"https://raw.githubusercontent.com/neelsmith/hctexts/master/workfiles/ocre/ocre-fst.txt\"\u001b[39m\n",
       "\u001b[36mfstLines\u001b[39m: \u001b[32mVector\u001b[39m[\u001b[32mString\u001b[39m] = \u001b[33mVector\u001b[39m(\n",
       "  \u001b[32m\"> avgvstvs\"\u001b[39m,\n",
       "  \u001b[32m\"<u>ocremorph.n4509</u><u>ls.n4509</u>avgvst<adj><us_a_um><div><us_a_um><adj>vs<masc><nom><sg><pos><u>ocremorph.us_a_um1</u>\"\u001b[39m,\n",
       "  \u001b[32m\"> pivs\"\u001b[39m,\n",
       "  \u001b[32m\"<u>ocremorph.n36487</u><u>ls.n36487</u>pi<adj><us_a_um><div><us_a_um><adj>vs<masc><nom><sg><pos><u>ocremorph.us_a_um1</u>\"\u001b[39m,\n",
       "  \u001b[32m\"> imperator\"\u001b[39m,\n",
       "  \u001b[32m\"<u>ocremorph.n21857</u><u>ls.n21857</u>imperator<noun><masc><0_is><div><0_is><noun><masc><nom><sg><u>ocremorph.0_is1</u>\"\u001b[39m,\n",
       "  \u001b[32m\"<u>ocremorph.n21857</u><u>ls.n21857</u>imperator<noun><masc><0_is><div><0_is><noun><masc><voc><sg><u>ocremorph.0_is11</u>\"\u001b[39m,\n",
       "  \u001b[32m\"> felix\"\u001b[39m,\n",
       "  \u001b[32m\"<u>ocremorph.n17887</u><u>ls.n17887</u>feli<adj><x_cis><div><x_cis><adj>x<masc><nom><sg><pos><u>livymorph.x_cis1</u>\"\u001b[39m,\n",
       "  \u001b[32m\"<u>ocremorph.n17887</u><u>ls.n17887</u>feli<adj><x_cis><div><x_cis><adj>x<fem><nom><sg><pos><u>livymorph.x_cis37</u>\"\u001b[39m,\n",
       "  \u001b[32m\"<u>ocremorph.n17887</u><u>ls.n17887</u>feli<adj><x_cis><div><x_cis><adj>x<neut><nom><sg><pos><u>livymorph.x_cis73</u>\"\u001b[39m,\n",
       "  \u001b[32m\"<u>ocremorph.n17887</u><u>ls.n17887</u>feli<adj><x_cis><div><x_cis><adj>x<neut><acc><sg><pos><u>livymorph.x_cis76</u>\"\u001b[39m,\n",
       "  \u001b[32m\"<u>ocremorph.n17887</u><u>ls.n17887</u>feli<adj><x_cis><div><x_cis><adj>x<neut><voc><sg><pos><u>livymorph.x_cis83</u>\"\u001b[39m,\n",
       "  \u001b[32m\"> caesar\"\u001b[39m,\n",
       "  \u001b[32m\"<u>ocremorph.n6080</u><u>ls.n6080</u>caesar<noun><masc><0_is><div><0_is><noun><masc><nom><sg><u>ocremorph.0_is1</u>\"\u001b[39m,\n",
       "  \u001b[32m\"<u>ocremorph.n6080</u><u>ls.n6080</u>caesar<noun><masc><0_is><div><0_is><noun><masc><voc><sg><u>ocremorph.0_is11</u>\"\u001b[39m,\n",
       "  \u001b[32m\"> noster\"\u001b[39m,\n",
       "  \u001b[32m\"<u>ocremorph.n31216</u><u>ls.n31216</u>nost<adj><er_ra_rum><div><er_ra_rum><adj>er<masc><nom><sg><pos><u>ocremorph.er_ra_rum1</u>\"\u001b[39m,\n",
       "  \u001b[32m\"<u>ocremorph.n31216</u><u>ls.n31216</u>nost<adj><er_ra_rum><div><er_ra_rum><adj>er<masc><voc><sg><pos><u>ocremorph.er_ra_rum11</u>\"\u001b[39m,\n",
       "  \u001b[32m\"> dominvs\"\u001b[39m,\n",
       "  \u001b[32m\"<u>ocremorph.n14699</u><u>ls.n14699</u>domin<noun><masc><us_i><div><us_i><noun>vs<masc><nom><sg><u>ocremorph.us_i1</u>\"\u001b[39m,\n",
       "  \u001b[32m\"> avgvsti\"\u001b[39m,\n",
       "  \u001b[32m\"<u>ocremorph.n4509</u><u>ls.n4509</u>avgvst<adj><us_a_um><div><us_a_um><adj>i<masc><nom><pl><pos><u>ocremorph.us_a_um6</u>\"\u001b[39m,\n",
       "...\n",
       "\u001b[36murl\u001b[39m: \u001b[32mString\u001b[39m = \u001b[32m\"https://raw.githubusercontent.com/neelsmith/hctexts/master/cex/ocre43k.cex\"\u001b[39m\n",
       "\u001b[36mctsLines\u001b[39m: \u001b[32mVector\u001b[39m[\u001b[32mString\u001b[39m] = \u001b[33mVector\u001b[39m(\n",
       "  \u001b[32m\"urn:cts:hcnum:issues.ric.raw:3.ant.868.obv.1#antoninvs avgvstvs pivs pater patriae imperator \\u2161\"\u001b[39m,\n",
       "  \u001b[32m\"urn:cts:hcnum:issues.ric.raw:3.ant.359_denarius.obv.3#diva favstina\"\u001b[39m,\n",
       "  \u001b[32m\"urn:cts:hcnum:issues.ric.raw:3.ant.359_denarius.rev.4#avgvsta\"\u001b[39m,\n",
       "  \u001b[32m\"urn:cts:hcnum:issues.ric.raw:2.hdn.975c.obv.5#hadrianvs avgvstvs pater patriae\"\u001b[39m,\n",
       "  \u001b[32m\"urn:cts:hcnum:issues.ric.raw:2.hdn.986_as.obv.7#hadrianvs avgvstvs consvl \\u2162 pater patriae\"\u001b[39m,\n",
       "  \u001b[32m\"urn:cts:hcnum:issues.ric.raw:2.tr.385.rev.128#tribvnicia potestate consvl \\u2161 senatvs consvlto\"\u001b[39m,\n",
       "  \u001b[32m\"urn:cts:hcnum:issues.ric.raw:2.tr.386.rev.130#tribvnicia potestate consvl \\u2161 senatvs consvlto\"\u001b[39m,\n",
       "  \u001b[32m\"urn:cts:hcnum:issues.ric.raw:2.tr.387.rev.132#tribvnicia potestate consvl \\u2161 senatvs consvlto\"\u001b[39m,\n",
       "  \u001b[32m\"urn:cts:hcnum:issues.ric.raw:2.tr.388.rev.134#tribvnicia potestate consvl \\u2161 senatvs consvlto\"\u001b[39m,\n",
       "  \u001b[32m\"urn:cts:hcnum:issues.ric.raw:2.tr.389.rev.136#tribvnicia potestate consvl \\u2161 senatvs consvlto\"\u001b[39m,\n",
       "  \u001b[32m\"urn:cts:hcnum:issues.ric.raw:2.tr.390.rev.138#tribvnicia potestate consvl \\u2161 senatvs consvlto\"\u001b[39m,\n",
       "  \u001b[32m\"urn:cts:hcnum:issues.ric.raw:2.tr.391.rev.140#tribvnicia potestate consvl \\u2161 senatvs consvlto\"\u001b[39m,\n",
       "  \u001b[32m\"urn:cts:hcnum:issues.ric.raw:2.tr.392.rev.142#tribvnicia potestate consvl \\u2161 senatvs consvlto\"\u001b[39m,\n",
       "  \u001b[32m\"urn:cts:hcnum:issues.ric.raw:2.tr.393.rev.144#tribvnicia potestate consvl \\u2161 senatvs consvlto\"\u001b[39m,\n",
       "  \u001b[32m\"urn:cts:hcnum:issues.ric.raw:2.tr.395.rev.148#tribvnicia potestate consvl \\u2161 senatvs consvlto\"\u001b[39m,\n",
       "  \u001b[32m\"urn:cts:hcnum:issues.ric.raw:2.tr.405.rev.169#senatvs consvlto\"\u001b[39m,\n",
       "  \u001b[32m\"urn:cts:hcnum:issues.ric.raw:2.tr.442.rev.245#senatvs consvlto\"\u001b[39m,\n",
       "  \u001b[32m\"urn:cts:hcnum:issues.ric.raw:2.tr.443.rev.247#senatvs consvlto\"\u001b[39m,\n",
       "  \u001b[32m\"urn:cts:hcnum:issues.ric.raw:2.tr.459_sestertius.obv.278#imperatori caesari nervae traiano avgvsto germanico dacico pontifici maximo tribvnicia potestate consvli \\u2164 patri patriae\"\u001b[39m,\n",
       "  \u001b[32m\"urn:cts:hcnum:issues.ric.raw:2.tr.459_as.obv.280#imperatori caesari nervae traiano avgvsto germanico dacico pontifici maximo tribvnicia potestate consvli \\u2164 patri patriae\"\u001b[39m,\n",
       "  \u001b[32m\"urn:cts:hcnum:issues.ric.raw:2.tr.460.obv.282#imperatori caesari nervae traia\u001b[39m...\n",
       "\u001b[36mstringPairs\u001b[39m: \u001b[32mVector\u001b[39m[\u001b[32mArray\u001b[39m[\u001b[32mString\u001b[39m]] = \u001b[33mVector\u001b[39m(\n",
       "  \u001b[33mArray\u001b[39m(\n",
       "    \u001b[32m\"urn:cts:hcnum:issues.ric.raw:3.ant.868.obv.1\"\u001b[39m,\n",
       "    \u001b[32m\"antoninvs avgvstvs pivs pater patriae imperator \\u2161\"\u001b[39m\n",
       "  ),\n",
       "  \u001b[33mArray\u001b[39m(\n",
       "    \u001b[32m\"urn:cts:hcnum:issues.ric.raw:3.ant.359_denarius.obv.3\"\u001b[39m,\n",
       "    \u001b[32m\"diva favstina\"\u001b[39m\n",
       "  ),\n",
       "  \u001b[33mArray\u001b[39m(\u001b[32m\"urn:cts:hcnum:issues.ric.raw:3.ant.359_denarius.rev.4\"\u001b[39m, \u001b[32m\"avgvsta\"\u001b[39m),\n",
       "  \u001b[33mArray\u001b[39m(\n",
       "    \u001b[32m\"urn:cts:hcnum:issues.ric.raw:2.hdn.975c.obv.5\"\u001b[39m,\n",
       "    \u001b[32m\"hadrianvs avgvstvs pater patriae\"\u001b[39m\n",
       "  ),\n",
       "  \u001b[33mArray\u001b[39m(\n",
       "    \u001b[32m\"urn:cts:hcnum:issues.ric.raw:2.hdn.986_as.obv.7\"\u001b[39m,\n",
       "    \u001b[32m\"hadrianvs avgvstvs consvl \\u2162 pater patriae\"\u001b[39m\n",
       "  ),\n",
       "  \u001b[33mArray\u001b[39m(\n",
       "    \u001b[32m\"urn:cts:hcnum:issues.ric.raw:2.tr.385.rev.128\"\u001b[39m,\n",
       "    \u001b[32m\"tribvnicia potestate consvl \\u2161 senatvs consvlto\"\u001b[39m\n",
       "  ),\n",
       "  \u001b[33mArray\u001b[39m(\n",
       "    \u001b[32m\"urn:cts:hcnum:issues.ric.raw:2.tr.386.rev.130\"\u001b[39m,\n",
       "    \u001b[32m\"tribvnicia potestate consvl \\u2161 senatvs consvlto\"\u001b[39m\n",
       "  ),\n",
       "  \u001b[33mArray\u001b[39m(\n",
       "    \u001b[32m\"urn:cts:hcnum:issues.ric.raw:2.tr.387.rev.132\"\u001b[39m,\n",
       "    \u001b[32m\"tribvnicia potestate consvl \\u2161 senatvs consvlto\"\u001b[39m\n",
       "  ),\n",
       "  \u001b[33mArray\u001b[39m(\n",
       "    \u001b[32m\"urn:cts:hcnum:issues.ric.raw:2.tr.388.rev.134\"\u001b[39m,\n",
       "    \u001b[32m\"tribvnicia potestate consvl \\u2161 senatvs consvlto\"\u001b[39m\n",
       "  ),\n",
       "  \u001b[33mArray\u001b[39m(\n",
       "    \u001b[32m\"urn:cts:hcnum:issues.ric.raw:2.tr.389.rev.136\"\u001b[39m,\n",
       "    \u001b[32m\"tribvnicia potestate consvl \\u2161 senatvs consvlto\"\u001b[39m\n",
       "  ),\n",
       "  \u001b[33mArray\u001b[39m(\n",
       "...\n",
       "\u001b[36mcitableNodes\u001b[39m: \u001b[32mVector\u001b[39m[\u001b[32mCitableNode\u001b[39m] = \u001b[33mVector\u001b[39m(\n",
       "  \u001b[33mCitableNode\u001b[39m(\n",
       "    \u001b[33mCtsUrn\u001b[39m(\u001b[32m\"urn:cts:hcnum:issues.ric.raw:3.ant.868.obv.1\"\u001b[39m),\n",
       "    \u001b[32m\"antoninvs avgvstvs pivs pater patriae imperator \\u2161\"\u001b[39m\n",
       "  ),\n",
       "  \u001b[33mCitableNode\u001b[39m(\n",
       "    \u001b[33mCtsUrn\u001b[39m(\u001b[32m\"urn:cts:hcnum:issues.ric.raw:3.ant.359_denarius.obv.3\"\u001b[39m),\n",
       "    \u001b[32m\"diva favstina\"\u001b[39m\n",
       "  ),\n",
       "  \u001b[33mCitableNode\u001b[39m(\n",
       "    \u001b[33mCtsUrn\u001b[39m(\u001b[32m\"urn:cts:hcnum:issues.ric.raw:3.ant.359_denarius.rev.4\"\u001b[39m),\n",
       "    \u001b[32m\"avgvsta\"\u001b[39m\n",
       "  ),\n",
       "  \u001b[33mCitableNode\u001b[39m(\n",
       "    \u001b[33mCtsUrn\u001b[39m(\u001b[32m\"urn:cts:hcnum:issues.ric.raw:2.hdn.975c.obv.5\"\u001b[39m),\n",
       "    \u001b[32m\"hadrianvs avgvstvs pater patriae\"\u001b[39m\n",
       "  ),\n",
       "  \u001b[33mCitableNode\u001b[39m(\n",
       "    \u001b[33mCtsUrn\u001b[39m(\u001b[32m\"urn:cts:hcnum:issues.ric.raw:2.hdn.986_as.obv.7\"\u001b[39m),\n",
       "    \u001b[32m\"hadrianvs avgvstvs consvl \\u2162 pater patriae\"\u001b[39m\n",
       "  ),\n",
       "  \u001b[33mCitableNode\u001b[39m(\n",
       "    \u001b[33mCtsUrn\u001b[39m(\u001b[32m\"urn:cts:hcnum:issues.ric.raw:2.tr.385.rev.128\"\u001b[39m),\n",
       "    \u001b[32m\"tribvnicia potestate consvl \\u2161 senatvs consvlto\"\u001b[39m\n",
       "  ),\n",
       "  \u001b[33mCitableNode\u001b[39m(\n",
       "    \u001b[33mCtsUrn\u001b[39m(\u001b[32m\"urn:cts:hcnum:issues.ric.raw:2.tr.386.rev.130\"\u001b[39m),\n",
       "    \u001b[32m\"tribvnicia potestate consvl \\u2161 senatvs consvlto\"\u001b[39m\n",
       "  ),\n",
       "  \u001b[33mCitableNode\u001b[39m(\n",
       "    \u001b[33mCtsUrn\u001b[39m(\u001b[32m\"urn:cts:hcnum:issues.ric.raw:2.tr.387.rev.132\"\u001b[39m),\n",
       "    \u001b[32m\"tribvnicia potestate consvl \\u2161 senatvs consvlto\"\u001b[39m\n",
       "  ),\n",
       "  \u001b[33mCitableNode\u001b[39m(\n",
       "    \u001b[33mCtsUrn\u001b[39m(\u001b[32m\"urn:cts:hcnum:issues.ric.raw:2.tr.388.rev.134\"\u001b[39m),\n",
       "    \u001b[32m\"tribvnicia potestate consvl \\u2161 senatvs consvlto\"\u001b[39m\n",
       "  ),\n",
       "  \u001b[33mCitableNode\u001b[39m(\n",
       "    \u001b[33mCtsUrn\u001b[39m(\u001b[32m\"urn:cts:hcnum:issues.ric.raw:2.tr.389.rev.136\"\u001b[39m),\n",
       "...\n",
       "\u001b[36mcorpus\u001b[39m: \u001b[32mCorpus\u001b[39m = \u001b[33mCorpus\u001b[39m(\n",
       "  \u001b[33mVector\u001b[39m(\n",
       "    \u001b[33mCitableNode\u001b[39m(\n",
       "      \u001b[33mCtsUrn\u001b[39m(\u001b[32m\"urn:cts:hcnum:issues.ric.raw:3.ant.868.obv.1\"\u001b[39m),\n",
       "      \u001b[32m\"antoninvs avgvstvs pivs pater patriae imperator \\u2161\"\u001b[39m\n",
       "    ),\n",
       "    \u001b[33mCitableNode\u001b[39m(\n",
       "      \u001b[33mCtsUrn\u001b[39m(\u001b[32m\"urn:cts:hcnum:issues.ric.raw:3.ant.359_denarius.obv.3\"\u001b[39m),\n",
       "      \u001b[32m\"diva favstina\"\u001b[39m\n",
       "    ),\n",
       "    \u001b[33mCitableNode\u001b[39m(\n",
       "      \u001b[33mCtsUrn\u001b[39m(\u001b[32m\"urn:cts:hcnum:issues.ric.raw:3.ant.359_denarius.rev.4\"\u001b[39m),\n",
       "      \u001b[32m\"avgvsta\"\u001b[39m\n",
       "    ),\n",
       "    \u001b[33mCitableNode\u001b[39m(\n",
       "      \u001b[33mCtsUrn\u001b[39m(\u001b[32m\"urn:cts:hcnum:issues.ric.raw:2.hdn.975c.obv.5\"\u001b[39m),\n",
       "      \u001b[32m\"hadrianvs avgvstvs pater patriae\"\u001b[39m\n",
       "    ),\n",
       "    \u001b[33mCitableNode\u001b[39m(\n",
       "      \u001b[33mCtsUrn\u001b[39m(\u001b[32m\"urn:cts:hcnum:issues.ric.raw:2.hdn.986_as.obv.7\"\u001b[39m),\n",
       "      \u001b[32m\"hadrianvs avgvstvs consvl \\u2162 pater patriae\"\u001b[39m\n",
       "    ),\n",
       "    \u001b[33mCitableNode\u001b[39m(\n",
       "      \u001b[33mCtsUrn\u001b[39m(\u001b[32m\"urn:cts:hcnum:issues.ric.raw:2.tr.385.rev.128\"\u001b[39m),\n",
       "      \u001b[32m\"tribvnicia potestate consvl \\u2161 senatvs consvlto\"\u001b[39m\n",
       "    ),\n",
       "    \u001b[33mCitableNode\u001b[39m(\n",
       "      \u001b[33mCtsUrn\u001b[39m(\u001b[32m\"urn:cts:hcnum:issues.ric.raw:2.tr.386.rev.130\"\u001b[39m),\n",
       "      \u001b[32m\"tribvnicia potestate consvl \\u2161 senatvs consvlto\"\u001b[39m\n",
       "    ),\n",
       "    \u001b[33mCitableNode\u001b[39m(\n",
       "      \u001b[33mCtsUrn\u001b[39m(\u001b[32m\"urn:cts:hcnum:issues.ric.raw:2.tr.387.rev.132\"\u001b[39m),\n",
       "      \u001b[32m\"tribvnicia potestate consvl \\u2161 senatvs consvlto\"\u001b[39m\n",
       "    ),\n",
       "    \u001b[33mCitableNode\u001b[39m(\n",
       "      \u001b[33mCtsUrn\u001b[39m(\u001b[32m\"urn:cts:hcnum:issues.ric.raw:2.tr.388.rev.134\"\u001b[39m),\n",
       "      \u001b[32m\"tribvnicia potestate consvl \\u2161 senatvs consvlto\"\u001b[39m\n",
       "    ),\n",
       "    \u001b[33mCitableNode\u001b[39m(\n",
       "..."
      ]
     },
     "execution_count": 4,
     "metadata": {},
     "output_type": "execute_result"
    }
   ],
   "source": [
    "val fstUrl = \"https://raw.githubusercontent.com/neelsmith/hctexts/master/workfiles/ocre/ocre-fst.txt\"\n",
    "val fstLines = Source.fromURL(fstUrl).getLines.toVector\n",
    "\n",
    "// Read CEX data from URL, create a corpus of citable nodes.\n",
    "// The `CorpusSource` object should really have a function that does this for you,\n",
    "// analogous to its `fromFile` function.\n",
    "val url = \"https://raw.githubusercontent.com/neelsmith/hctexts/master/cex/ocre43k.cex\"\n",
    "val ctsLines = Source.fromURL(url).getLines.toVector.tail.filter(_.nonEmpty)\n",
    "\n",
    "val stringPairs = ctsLines.map(_.split(\"#\"))\n",
    "val citableNodes = stringPairs.map( arr => CitableNode(CtsUrn(arr(0)), arr(1)))\n",
    "val corpus = Corpus(citableNodes)"
   ]
  },
  {
   "cell_type": "code",
   "execution_count": null,
   "metadata": {},
   "outputs": [],
   "source": [
    "// A corpus of parsed tokens:\n",
    "val ocrelatin = LatinCorpus.fromFstLines(corpus, Latin24Alphabet, fstLines, strict = false)"
   ]
  },
  {
   "cell_type": "markdown",
   "metadata": {},
   "source": [
    "## `Libertas` in Ocre\n",
    "\n",
    "Given a surface form (a *token*) appearing somewhere in your corpus, you can find all *lexemes* it can derive from, and find all occurrences of that lexeme in any form.\n"
   ]
  },
  {
   "cell_type": "code",
   "execution_count": null,
   "metadata": {},
   "outputs": [],
   "source": [
    "val token = \"libertas\"\n",
    "val lexemeUrns = ocrelatin.tokenLexemeIndex(token)\n",
    "// here, we assume there's only one matching lexeme:\n",
    "val lexemeUrn = lexemeUrns(0)\n",
    "val occurrences =  ocrelatin.lexemeConcordance(lexemeUrn)\n"
   ]
  }
 ],
 "metadata": {
  "kernelspec": {
   "display_name": "Scala 2.12",
   "language": "scala",
   "name": "scala212"
  },
  "language_info": {
   "codemirror_mode": "text/x-scala",
   "file_extension": ".scala",
   "mimetype": "text/x-scala",
   "name": "scala",
   "nbconvert_exporter": "script",
   "version": "2.12.10"
  }
 },
 "nbformat": 4,
 "nbformat_minor": 2
}
